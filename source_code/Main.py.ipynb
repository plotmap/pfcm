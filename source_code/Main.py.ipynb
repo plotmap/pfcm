{
 "metadata": {
  "name": "",
  "signature": "sha256:efcc5e192bf2420c0069e0aad6f6825bbc434df7c0fd899f01a6c2e5675fc9a1"
 },
 "nbformat": 3,
 "nbformat_minor": 0,
 "worksheets": [
  {
   "cells": [
    {
     "cell_type": "code",
     "collapsed": false,
     "input": [
      "from IPython.html.widgets import *\n",
      "from numpy import *\n",
      "from matplotlib import pyplot as plt"
     ],
     "language": "python",
     "metadata": {},
     "outputs": [],
     "prompt_number": 83
    },
    {
     "cell_type": "code",
     "collapsed": false,
     "input": [
      "def GetCategories(filename):\n",
      "    with open(filename, 'r') as f:\n",
      "\n",
      "        \n",
      "        categories=f.readlines()\n",
      "        categories = [line.strip() for line in categories]\n",
      "            \n",
      "    return categories"
     ],
     "language": "python",
     "metadata": {},
     "outputs": [],
     "prompt_number": 129
    },
    {
     "cell_type": "code",
     "collapsed": false,
     "input": [
      "CatList = GetCategories('categoreis.csv')\n"
     ],
     "language": "python",
     "metadata": {},
     "outputs": [],
     "prompt_number": 130
    },
    {
     "cell_type": "code",
     "collapsed": false,
     "input": [
      "from dataReader import dataReader\n",
      "data=dataReader('.csv')\n",
      "\n",
      "print data\n",
      "\n",
      "    \n",
      "    \n",
      "   \n",
      "years = [str(x) for x in range(1960,2015)]"
     ],
     "language": "python",
     "metadata": {},
     "outputs": [
      {
       "output_type": "stream",
       "stream": "stdout",
       "text": [
        "None\n"
       ]
      }
     ],
     "prompt_number": 133
    },
    {
     "cell_type": "code",
     "collapsed": false,
     "input": [
      "interact(, Start=years,  End=years, Cat=CatList)"
     ],
     "language": "python",
     "metadata": {},
     "outputs": [
      {
       "output_type": "stream",
       "stream": "stdout",
       "text": [
        "1961\n"
       ]
      }
     ],
     "prompt_number": 125
    },
    {
     "cell_type": "code",
     "collapsed": false,
     "input": [],
     "language": "python",
     "metadata": {},
     "outputs": []
    }
   ],
   "metadata": {}
  }
 ]
}