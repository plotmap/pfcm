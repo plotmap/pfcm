{
 "metadata": {
  "name": "",
  "signature": "sha256:1e2455b50be81f3cc6d0796e3269667c5dee6cb92405edcd410939245e34b071"
 },
 "nbformat": 3,
 "nbformat_minor": 0,
 "worksheets": [
  {
   "cells": [
    {
     "cell_type": "code",
     "collapsed": false,
     "input": [
      "import matplotlib.pyplot as plt\n",
      "\n",
      "\n",
      "\n",
      "\n",
      "def drawbar(data1):\n",
      "   \n",
      "    years = data1[0]\n",
      "    values = data1[1]\n",
      "    plt.bar(years, values)\n",
      "    plt.show()\n",
      "    \n"
     ],
     "language": "python",
     "metadata": {},
     "outputs": [],
     "prompt_number": 2
    },
    {
     "cell_type": "code",
     "collapsed": false,
     "input": [],
     "language": "python",
     "metadata": {},
     "outputs": []
    }
   ],
   "metadata": {}
  }
 ]
}